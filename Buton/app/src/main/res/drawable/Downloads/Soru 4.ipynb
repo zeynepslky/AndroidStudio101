{
 "cells": [
  {
   "cell_type": "code",
   "execution_count": 2,
   "id": "6743e822",
   "metadata": {},
   "outputs": [],
   "source": [
    "import numpy as np\n",
    "import pandas as pd\n",
    "import matplotlib.pyplot as plt\n",
    "import seaborn as sns\n"
   ]
  },
  {
   "cell_type": "code",
   "execution_count": 3,
   "id": "4134a914",
   "metadata": {},
   "outputs": [
    {
     "data": {
      "text/html": [
       "<div>\n",
       "<style scoped>\n",
       "    .dataframe tbody tr th:only-of-type {\n",
       "        vertical-align: middle;\n",
       "    }\n",
       "\n",
       "    .dataframe tbody tr th {\n",
       "        vertical-align: top;\n",
       "    }\n",
       "\n",
       "    .dataframe thead th {\n",
       "        text-align: right;\n",
       "    }\n",
       "</style>\n",
       "<table border=\"1\" class=\"dataframe\">\n",
       "  <thead>\n",
       "    <tr style=\"text-align: right;\">\n",
       "      <th></th>\n",
       "      <th>Y</th>\n",
       "      <th>X</th>\n",
       "      <th>KAZA TÜRÜ</th>\n",
       "      <th>TARİH</th>\n",
       "      <th>SAAT</th>\n",
       "      <th>ILCE</th>\n",
       "      <th>MAHALLE</th>\n",
       "      <th>YOL</th>\n",
       "      <th>Ölü Sayısı</th>\n",
       "      <th>Yaralı Sayısı</th>\n",
       "      <th>Araç Sayısı</th>\n",
       "      <th>Kaza Nedeni</th>\n",
       "    </tr>\n",
       "  </thead>\n",
       "  <tbody>\n",
       "    <tr>\n",
       "      <th>0</th>\n",
       "      <td>38786276248257</td>\n",
       "      <td>35617434277430</td>\n",
       "      <td>Yaralamalı</td>\n",
       "      <td>2021-01-02</td>\n",
       "      <td>10.0</td>\n",
       "      <td>MELİKGAZİ</td>\n",
       "      <td>İLDEM CUMHURİYET</td>\n",
       "      <td>YAVUZ SULTAN SELİM CD.</td>\n",
       "      <td>NaN</td>\n",
       "      <td>1.0</td>\n",
       "      <td>1.0</td>\n",
       "      <td>Engel/Cisim ile çarpışma</td>\n",
       "    </tr>\n",
       "    <tr>\n",
       "      <th>1</th>\n",
       "      <td>38748778207656</td>\n",
       "      <td>35448206426898</td>\n",
       "      <td>Yaralamalı</td>\n",
       "      <td>2021-01-04</td>\n",
       "      <td>21.0</td>\n",
       "      <td>KOCASİNAN</td>\n",
       "      <td>MİTHATPAŞA</td>\n",
       "      <td>BEKİR YILDIZ BULV.</td>\n",
       "      <td>NaN</td>\n",
       "      <td>1.0</td>\n",
       "      <td>2.0</td>\n",
       "      <td>Yandan çarpma</td>\n",
       "    </tr>\n",
       "    <tr>\n",
       "      <th>2</th>\n",
       "      <td>38711598027276</td>\n",
       "      <td>35495888729945</td>\n",
       "      <td>Yaralamalı</td>\n",
       "      <td>2021-01-04</td>\n",
       "      <td>5.0</td>\n",
       "      <td>MELİKGAZİ</td>\n",
       "      <td>ESENYURT</td>\n",
       "      <td>KARTAL BULV.</td>\n",
       "      <td>NaN</td>\n",
       "      <td>1.0</td>\n",
       "      <td>2.0</td>\n",
       "      <td>Yan yana çarpışma</td>\n",
       "    </tr>\n",
       "    <tr>\n",
       "      <th>3</th>\n",
       "      <td>38729385127602</td>\n",
       "      <td>35486362169172</td>\n",
       "      <td>Yaralamalı</td>\n",
       "      <td>2021-01-04</td>\n",
       "      <td>10.0</td>\n",
       "      <td>KOCASİNAN</td>\n",
       "      <td>SAHABİYE</td>\n",
       "      <td>YILDIRIM CD.</td>\n",
       "      <td>NaN</td>\n",
       "      <td>2.0</td>\n",
       "      <td>2.0</td>\n",
       "      <td>Yandan çarpma</td>\n",
       "    </tr>\n",
       "    <tr>\n",
       "      <th>4</th>\n",
       "      <td>38750364007093</td>\n",
       "      <td>35550630276420</td>\n",
       "      <td>Yaralamalı</td>\n",
       "      <td>2021-01-04</td>\n",
       "      <td>10.0</td>\n",
       "      <td>KOCASİNAN</td>\n",
       "      <td>CIRGALAN</td>\n",
       "      <td>SİVAS BULV.</td>\n",
       "      <td>NaN</td>\n",
       "      <td>1.0</td>\n",
       "      <td>2.0</td>\n",
       "      <td>Yandan çarpma</td>\n",
       "    </tr>\n",
       "    <tr>\n",
       "      <th>...</th>\n",
       "      <td>...</td>\n",
       "      <td>...</td>\n",
       "      <td>...</td>\n",
       "      <td>...</td>\n",
       "      <td>...</td>\n",
       "      <td>...</td>\n",
       "      <td>...</td>\n",
       "      <td>...</td>\n",
       "      <td>...</td>\n",
       "      <td>...</td>\n",
       "      <td>...</td>\n",
       "      <td>...</td>\n",
       "    </tr>\n",
       "    <tr>\n",
       "      <th>2607</th>\n",
       "      <td>38697348387912</td>\n",
       "      <td>35562562839926</td>\n",
       "      <td>Yaralamalı</td>\n",
       "      <td>2021-12-31</td>\n",
       "      <td>21.0</td>\n",
       "      <td>TALAS</td>\n",
       "      <td>TABLAKAYA</td>\n",
       "      <td>6179. SK.</td>\n",
       "      <td>NaN</td>\n",
       "      <td>1.0</td>\n",
       "      <td>2.0</td>\n",
       "      <td>Yandan çarpma</td>\n",
       "    </tr>\n",
       "    <tr>\n",
       "      <th>2608</th>\n",
       "      <td>38738542602655</td>\n",
       "      <td>35427437416339</td>\n",
       "      <td>Yaralamalı</td>\n",
       "      <td>2021-12-31</td>\n",
       "      <td>20.0</td>\n",
       "      <td>MELİKGAZİ</td>\n",
       "      <td>OSMAN KAVUNCU</td>\n",
       "      <td>TEK İÇİ LOJMANLARI  KÜM.EV.</td>\n",
       "      <td>NaN</td>\n",
       "      <td>4.0</td>\n",
       "      <td>3.0</td>\n",
       "      <td>Yandan çarpma</td>\n",
       "    </tr>\n",
       "    <tr>\n",
       "      <th>2609</th>\n",
       "      <td>38742863107663</td>\n",
       "      <td>35409362101126</td>\n",
       "      <td>Yaralamalı</td>\n",
       "      <td>2021-12-31</td>\n",
       "      <td>22.0</td>\n",
       "      <td>MELİKGAZİ</td>\n",
       "      <td>KEYKUBAT</td>\n",
       "      <td>GÜLTEKİN SK.</td>\n",
       "      <td>NaN</td>\n",
       "      <td>1.0</td>\n",
       "      <td>2.0</td>\n",
       "      <td>Yandan çarpma</td>\n",
       "    </tr>\n",
       "    <tr>\n",
       "      <th>2610</th>\n",
       "      <td>38701049367458</td>\n",
       "      <td>35478182420281</td>\n",
       "      <td>Yaralamalı</td>\n",
       "      <td>2021-12-31</td>\n",
       "      <td>22.0</td>\n",
       "      <td>MELİKGAZİ</td>\n",
       "      <td>BATTALGAZİ</td>\n",
       "      <td>BATTALGAZİ BULV.</td>\n",
       "      <td>NaN</td>\n",
       "      <td>1.0</td>\n",
       "      <td>1.0</td>\n",
       "      <td>Engel/Cisim ile çarpışma</td>\n",
       "    </tr>\n",
       "    <tr>\n",
       "      <th>2611</th>\n",
       "      <td>38725179220159</td>\n",
       "      <td>35464367340016</td>\n",
       "      <td>Yaralamalı</td>\n",
       "      <td>2021-12-31</td>\n",
       "      <td>23.0</td>\n",
       "      <td>KOCASİNAN</td>\n",
       "      <td>SANAYİ</td>\n",
       "      <td>KOCASİNAN BULV.</td>\n",
       "      <td>NaN</td>\n",
       "      <td>1.0</td>\n",
       "      <td>2.0</td>\n",
       "      <td>Karşılıklı çarpışma</td>\n",
       "    </tr>\n",
       "  </tbody>\n",
       "</table>\n",
       "<p>2612 rows × 12 columns</p>\n",
       "</div>"
      ],
      "text/plain": [
       "                   Y               X   KAZA TÜRÜ      TARİH  SAAT       ILCE  \\\n",
       "0     38786276248257  35617434277430  Yaralamalı 2021-01-02  10.0  MELİKGAZİ   \n",
       "1     38748778207656  35448206426898  Yaralamalı 2021-01-04  21.0  KOCASİNAN   \n",
       "2     38711598027276  35495888729945  Yaralamalı 2021-01-04   5.0  MELİKGAZİ   \n",
       "3     38729385127602  35486362169172  Yaralamalı 2021-01-04  10.0  KOCASİNAN   \n",
       "4     38750364007093  35550630276420  Yaralamalı 2021-01-04  10.0  KOCASİNAN   \n",
       "...              ...             ...         ...        ...   ...        ...   \n",
       "2607  38697348387912  35562562839926  Yaralamalı 2021-12-31  21.0      TALAS   \n",
       "2608  38738542602655  35427437416339  Yaralamalı 2021-12-31  20.0  MELİKGAZİ   \n",
       "2609  38742863107663  35409362101126  Yaralamalı 2021-12-31  22.0  MELİKGAZİ   \n",
       "2610  38701049367458  35478182420281  Yaralamalı 2021-12-31  22.0  MELİKGAZİ   \n",
       "2611  38725179220159  35464367340016  Yaralamalı 2021-12-31  23.0  KOCASİNAN   \n",
       "\n",
       "               MAHALLE                          YOL  Ölü Sayısı  \\\n",
       "0     İLDEM CUMHURİYET       YAVUZ SULTAN SELİM CD.         NaN   \n",
       "1           MİTHATPAŞA           BEKİR YILDIZ BULV.         NaN   \n",
       "2             ESENYURT                 KARTAL BULV.         NaN   \n",
       "3             SAHABİYE                 YILDIRIM CD.         NaN   \n",
       "4             CIRGALAN                  SİVAS BULV.         NaN   \n",
       "...                ...                          ...         ...   \n",
       "2607         TABLAKAYA                    6179. SK.         NaN   \n",
       "2608     OSMAN KAVUNCU  TEK İÇİ LOJMANLARI  KÜM.EV.         NaN   \n",
       "2609          KEYKUBAT                 GÜLTEKİN SK.         NaN   \n",
       "2610        BATTALGAZİ             BATTALGAZİ BULV.         NaN   \n",
       "2611            SANAYİ              KOCASİNAN BULV.         NaN   \n",
       "\n",
       "      Yaralı Sayısı  Araç Sayısı               Kaza Nedeni  \n",
       "0               1.0          1.0  Engel/Cisim ile çarpışma  \n",
       "1               1.0          2.0             Yandan çarpma  \n",
       "2               1.0          2.0         Yan yana çarpışma  \n",
       "3               2.0          2.0             Yandan çarpma  \n",
       "4               1.0          2.0             Yandan çarpma  \n",
       "...             ...          ...                       ...  \n",
       "2607            1.0          2.0             Yandan çarpma  \n",
       "2608            4.0          3.0             Yandan çarpma  \n",
       "2609            1.0          2.0             Yandan çarpma  \n",
       "2610            1.0          1.0  Engel/Cisim ile çarpışma  \n",
       "2611            1.0          2.0       Karşılıklı çarpışma  \n",
       "\n",
       "[2612 rows x 12 columns]"
      ]
     },
     "execution_count": 3,
     "metadata": {},
     "output_type": "execute_result"
    }
   ],
   "source": [
    "data = pd.read_excel(\"data1.xlsx\")\n",
    "data"
   ]
  },
  {
   "cell_type": "code",
   "execution_count": 4,
   "id": "4c6c6bcc",
   "metadata": {},
   "outputs": [],
   "source": [
    "data = data.fillna(value = 0)"
   ]
  },
  {
   "cell_type": "code",
   "execution_count": 5,
   "id": "d8a832e9",
   "metadata": {},
   "outputs": [
    {
     "data": {
      "text/plain": [
       "0.0    2600\n",
       "1.0      11\n",
       "2.0       1\n",
       "Name: Ölü Sayısı, dtype: int64"
      ]
     },
     "execution_count": 5,
     "metadata": {},
     "output_type": "execute_result"
    }
   ],
   "source": [
    "data[\"Ölü Sayısı\"].value_counts()"
   ]
  },
  {
   "cell_type": "code",
   "execution_count": 6,
   "id": "b1a2d5f3",
   "metadata": {},
   "outputs": [
    {
     "data": {
      "text/plain": [
       "1.0     1886\n",
       "2.0      452\n",
       "3.0      145\n",
       "4.0       69\n",
       "5.0       29\n",
       "0.0       12\n",
       "6.0        8\n",
       "7.0        5\n",
       "8.0        3\n",
       "9.0        1\n",
       "13.0       1\n",
       "25.0       1\n",
       "Name: Yaralı Sayısı, dtype: int64"
      ]
     },
     "execution_count": 6,
     "metadata": {},
     "output_type": "execute_result"
    }
   ],
   "source": [
    "data[\"Yaralı Sayısı\"].value_counts()"
   ]
  },
  {
   "cell_type": "code",
   "execution_count": 7,
   "id": "628783a6",
   "metadata": {},
   "outputs": [
    {
     "data": {
      "text/plain": [
       "2.0     1549\n",
       "1.0      845\n",
       "3.0      161\n",
       "4.0       34\n",
       "0.0        7\n",
       "5.0        7\n",
       "6.0        6\n",
       "9.0        1\n",
       "22.0       1\n",
       "7.0        1\n",
       "Name: Araç Sayısı, dtype: int64"
      ]
     },
     "execution_count": 7,
     "metadata": {},
     "output_type": "execute_result"
    }
   ],
   "source": [
    "data[\"Araç Sayısı\"].value_counts()"
   ]
  },
  {
   "cell_type": "code",
   "execution_count": 8,
   "id": "df2c49c8",
   "metadata": {},
   "outputs": [
    {
     "data": {
      "text/html": [
       "<div>\n",
       "<style scoped>\n",
       "    .dataframe tbody tr th:only-of-type {\n",
       "        vertical-align: middle;\n",
       "    }\n",
       "\n",
       "    .dataframe tbody tr th {\n",
       "        vertical-align: top;\n",
       "    }\n",
       "\n",
       "    .dataframe thead th {\n",
       "        text-align: right;\n",
       "    }\n",
       "</style>\n",
       "<table border=\"1\" class=\"dataframe\">\n",
       "  <thead>\n",
       "    <tr style=\"text-align: right;\">\n",
       "      <th></th>\n",
       "      <th>Ölü Sayısı</th>\n",
       "      <th>Yaralı Sayısı</th>\n",
       "      <th>Araç Sayısı</th>\n",
       "    </tr>\n",
       "  </thead>\n",
       "  <tbody>\n",
       "    <tr>\n",
       "      <th>0</th>\n",
       "      <td>2600</td>\n",
       "      <td>1</td>\n",
       "      <td>1</td>\n",
       "    </tr>\n",
       "    <tr>\n",
       "      <th>1</th>\n",
       "      <td>110</td>\n",
       "      <td>1886</td>\n",
       "      <td>845</td>\n",
       "    </tr>\n",
       "    <tr>\n",
       "      <th>2</th>\n",
       "      <td>1</td>\n",
       "      <td>452</td>\n",
       "      <td>1549</td>\n",
       "    </tr>\n",
       "    <tr>\n",
       "      <th>3</th>\n",
       "      <td>0</td>\n",
       "      <td>145</td>\n",
       "      <td>161</td>\n",
       "    </tr>\n",
       "    <tr>\n",
       "      <th>4</th>\n",
       "      <td>0</td>\n",
       "      <td>69</td>\n",
       "      <td>34</td>\n",
       "    </tr>\n",
       "    <tr>\n",
       "      <th>5</th>\n",
       "      <td>0</td>\n",
       "      <td>29</td>\n",
       "      <td>7</td>\n",
       "    </tr>\n",
       "    <tr>\n",
       "      <th>6</th>\n",
       "      <td>0</td>\n",
       "      <td>8</td>\n",
       "      <td>6</td>\n",
       "    </tr>\n",
       "    <tr>\n",
       "      <th>7</th>\n",
       "      <td>0</td>\n",
       "      <td>5</td>\n",
       "      <td>1</td>\n",
       "    </tr>\n",
       "    <tr>\n",
       "      <th>8</th>\n",
       "      <td>0</td>\n",
       "      <td>3</td>\n",
       "      <td>0</td>\n",
       "    </tr>\n",
       "    <tr>\n",
       "      <th>9</th>\n",
       "      <td>0</td>\n",
       "      <td>1</td>\n",
       "      <td>1</td>\n",
       "    </tr>\n",
       "    <tr>\n",
       "      <th>10</th>\n",
       "      <td>0</td>\n",
       "      <td>0</td>\n",
       "      <td>0</td>\n",
       "    </tr>\n",
       "    <tr>\n",
       "      <th>11</th>\n",
       "      <td>0</td>\n",
       "      <td>0</td>\n",
       "      <td>0</td>\n",
       "    </tr>\n",
       "    <tr>\n",
       "      <th>12</th>\n",
       "      <td>0</td>\n",
       "      <td>0</td>\n",
       "      <td>0</td>\n",
       "    </tr>\n",
       "    <tr>\n",
       "      <th>13</th>\n",
       "      <td>0</td>\n",
       "      <td>1</td>\n",
       "      <td>0</td>\n",
       "    </tr>\n",
       "    <tr>\n",
       "      <th>14</th>\n",
       "      <td>0</td>\n",
       "      <td>0</td>\n",
       "      <td>0</td>\n",
       "    </tr>\n",
       "    <tr>\n",
       "      <th>15</th>\n",
       "      <td>0</td>\n",
       "      <td>0</td>\n",
       "      <td>0</td>\n",
       "    </tr>\n",
       "    <tr>\n",
       "      <th>16</th>\n",
       "      <td>0</td>\n",
       "      <td>0</td>\n",
       "      <td>0</td>\n",
       "    </tr>\n",
       "    <tr>\n",
       "      <th>17</th>\n",
       "      <td>0</td>\n",
       "      <td>0</td>\n",
       "      <td>0</td>\n",
       "    </tr>\n",
       "    <tr>\n",
       "      <th>18</th>\n",
       "      <td>0</td>\n",
       "      <td>0</td>\n",
       "      <td>0</td>\n",
       "    </tr>\n",
       "    <tr>\n",
       "      <th>19</th>\n",
       "      <td>0</td>\n",
       "      <td>0</td>\n",
       "      <td>0</td>\n",
       "    </tr>\n",
       "    <tr>\n",
       "      <th>20</th>\n",
       "      <td>0</td>\n",
       "      <td>0</td>\n",
       "      <td>0</td>\n",
       "    </tr>\n",
       "    <tr>\n",
       "      <th>21</th>\n",
       "      <td>0</td>\n",
       "      <td>0</td>\n",
       "      <td>0</td>\n",
       "    </tr>\n",
       "    <tr>\n",
       "      <th>22</th>\n",
       "      <td>0</td>\n",
       "      <td>0</td>\n",
       "      <td>1</td>\n",
       "    </tr>\n",
       "    <tr>\n",
       "      <th>23</th>\n",
       "      <td>0</td>\n",
       "      <td>0</td>\n",
       "      <td>0</td>\n",
       "    </tr>\n",
       "    <tr>\n",
       "      <th>24</th>\n",
       "      <td>0</td>\n",
       "      <td>0</td>\n",
       "      <td>0</td>\n",
       "    </tr>\n",
       "    <tr>\n",
       "      <th>25</th>\n",
       "      <td>0</td>\n",
       "      <td>1</td>\n",
       "      <td>0</td>\n",
       "    </tr>\n",
       "  </tbody>\n",
       "</table>\n",
       "</div>"
      ],
      "text/plain": [
       "    Ölü Sayısı  Yaralı Sayısı  Araç Sayısı\n",
       "0         2600              1            1\n",
       "1          110           1886          845\n",
       "2            1            452         1549\n",
       "3            0            145          161\n",
       "4            0             69           34\n",
       "5            0             29            7\n",
       "6            0              8            6\n",
       "7            0              5            1\n",
       "8            0              3            0\n",
       "9            0              1            1\n",
       "10           0              0            0\n",
       "11           0              0            0\n",
       "12           0              0            0\n",
       "13           0              1            0\n",
       "14           0              0            0\n",
       "15           0              0            0\n",
       "16           0              0            0\n",
       "17           0              0            0\n",
       "18           0              0            0\n",
       "19           0              0            0\n",
       "20           0              0            0\n",
       "21           0              0            0\n",
       "22           0              0            1\n",
       "23           0              0            0\n",
       "24           0              0            0\n",
       "25           0              1            0"
      ]
     },
     "execution_count": 8,
     "metadata": {},
     "output_type": "execute_result"
    }
   ],
   "source": [
    "df = pd.DataFrame({\n",
    "    \"Ölü Sayısı\":[2600,110,1,0,0,0,0,0,0,0,0,0,0,0,0,0,0,0,0,0,0,0,0,0,0,0],\n",
    "    \"Yaralı Sayısı\":[1,1886,452,145,69,29,8,5,3,1,0,0,0,1,0,0,0,0,0,0,0,0,0,0,0,1],\n",
    "    \"Araç Sayısı\":[1,845,1549,161,34,7,6,1,0,1,0,0,0,0,0,0,0,0,0,0,0,0,1,0,0,0]\n",
    "})\n",
    "df"
   ]
  },
  {
   "cell_type": "code",
   "execution_count": 9,
   "id": "53308b2f",
   "metadata": {},
   "outputs": [
    {
     "data": {
      "text/plain": [
       "<function matplotlib.pyplot.show(close=None, block=None)>"
      ]
     },
     "execution_count": 9,
     "metadata": {},
     "output_type": "execute_result"
    },
    {
     "data": {
      "image/png": "[encoded data removed]",
      "text/plain": [
       "<Figure size 432x288 with 1 Axes>"
      ]
     },
     "metadata": {
      "needs_background": "light"
     },
     "output_type": "display_data"
    }
   ],
   "source": [
    "df.plot.bar()\n",
    "plt.xlabel(\"Ölü, Yaralı ve Araç Sayısı\")\n",
    "plt.ylabel(\"Kaza Sayısı\")\n",
    "plt.show"
   ]
  },
  {
   "cell_type": "code",
   "execution_count": 10,
   "id": "bbf052c7",
   "metadata": {},
   "outputs": [
    {
     "data": {
      "text/html": [
       "<div>\n",
       "<style scoped>\n",
       "    .dataframe tbody tr th:only-of-type {\n",
       "        vertical-align: middle;\n",
       "    }\n",
       "\n",
       "    .dataframe tbody tr th {\n",
       "        vertical-align: top;\n",
       "    }\n",
       "\n",
       "    .dataframe thead th {\n",
       "        text-align: right;\n",
       "    }\n",
       "</style>\n",
       "<table border=\"1\" class=\"dataframe\">\n",
       "  <thead>\n",
       "    <tr style=\"text-align: right;\">\n",
       "      <th></th>\n",
       "      <th>Ölü Sayısı</th>\n",
       "      <th>Yaralı Sayısı</th>\n",
       "      <th>Araç Sayısı</th>\n",
       "    </tr>\n",
       "  </thead>\n",
       "  <tbody>\n",
       "    <tr>\n",
       "      <th>Ölü Sayısı</th>\n",
       "      <td>1.000000</td>\n",
       "      <td>-0.012685</td>\n",
       "      <td>-0.040398</td>\n",
       "    </tr>\n",
       "    <tr>\n",
       "      <th>Yaralı Sayısı</th>\n",
       "      <td>-0.012685</td>\n",
       "      <td>1.000000</td>\n",
       "      <td>0.646050</td>\n",
       "    </tr>\n",
       "    <tr>\n",
       "      <th>Araç Sayısı</th>\n",
       "      <td>-0.040398</td>\n",
       "      <td>0.646050</td>\n",
       "      <td>1.000000</td>\n",
       "    </tr>\n",
       "  </tbody>\n",
       "</table>\n",
       "</div>"
      ],
      "text/plain": [
       "               Ölü Sayısı  Yaralı Sayısı  Araç Sayısı\n",
       "Ölü Sayısı       1.000000      -0.012685    -0.040398\n",
       "Yaralı Sayısı   -0.012685       1.000000     0.646050\n",
       "Araç Sayısı     -0.040398       0.646050     1.000000"
      ]
     },
     "execution_count": 10,
     "metadata": {},
     "output_type": "execute_result"
    }
   ],
   "source": [
    "df.corr(\"pearson\")"
   ]
  },
  {
   "cell_type": "code",
   "execution_count": 11,
   "id": "2363a76f",
   "metadata": {},
   "outputs": [
    {
     "data": {
      "text/plain": [
       "<AxesSubplot:>"
      ]
     },
     "execution_count": 11,
     "metadata": {},
     "output_type": "execute_result"
    },
    {
     "data": {
      "image/png": "[encoded data removed]",
      "text/plain": [
       "<Figure size 432x288 with 2 Axes>"
      ]
     },
     "metadata": {
      "needs_background": "light"
     },
     "output_type": "display_data"
    }
   ],
   "source": [
    "sns.heatmap(df.corr(\"pearson\"), annot = True)"
   ]
  },
  {
   "cell_type": "code",
   "execution_count": 28,
   "id": "8ad0e3bf",
   "metadata": {},
   "outputs": [
    {
     "data": {
      "text/plain": [
       "<function matplotlib.pyplot.show(close=None, block=None)>"
      ]
     },
     "execution_count": 28,
     "metadata": {},
     "output_type": "execute_result"
    },
    {
     "data": {
      "image/png": "[encoded data removed]",
      "text/plain": [
       "<Figure size 432x288 with 1 Axes>"
      ]
     },
     "metadata": {
      "needs_background": "light"
     },
     "output_type": "display_data"
    }
   ],
   "source": [
    "df.corr(\"pearson\").plot.bar()\n",
    "plt.xlabel(\"Ölü, Yaralı ve Araç Sayısı\")\n",
    "plt.ylabel(\"Kaza Sayısı\")\n",
    "plt.show"
   ]
  },
  {
   "cell_type": "code",
   "execution_count": 12,
   "id": "28f5a7ff",
   "metadata": {},
   "outputs": [
    {
     "data": {
      "text/html": [
       "<div>\n",
       "<style scoped>\n",
       "    .dataframe tbody tr th:only-of-type {\n",
       "        vertical-align: middle;\n",
       "    }\n",
       "\n",
       "    .dataframe tbody tr th {\n",
       "        vertical-align: top;\n",
       "    }\n",
       "\n",
       "    .dataframe thead th {\n",
       "        text-align: right;\n",
       "    }\n",
       "</style>\n",
       "<table border=\"1\" class=\"dataframe\">\n",
       "  <thead>\n",
       "    <tr style=\"text-align: right;\">\n",
       "      <th></th>\n",
       "      <th>Ölü Sayısı</th>\n",
       "      <th>Yaralı Sayısı</th>\n",
       "      <th>Araç Sayısı</th>\n",
       "    </tr>\n",
       "  </thead>\n",
       "  <tbody>\n",
       "    <tr>\n",
       "      <th>Ölü Sayısı</th>\n",
       "      <td>1.000000</td>\n",
       "      <td>0.460109</td>\n",
       "      <td>0.520767</td>\n",
       "    </tr>\n",
       "    <tr>\n",
       "      <th>Yaralı Sayısı</th>\n",
       "      <td>0.460109</td>\n",
       "      <td>1.000000</td>\n",
       "      <td>0.837171</td>\n",
       "    </tr>\n",
       "    <tr>\n",
       "      <th>Araç Sayısı</th>\n",
       "      <td>0.520767</td>\n",
       "      <td>0.837171</td>\n",
       "      <td>1.000000</td>\n",
       "    </tr>\n",
       "  </tbody>\n",
       "</table>\n",
       "</div>"
      ],
      "text/plain": [
       "               Ölü Sayısı  Yaralı Sayısı  Araç Sayısı\n",
       "Ölü Sayısı       1.000000       0.460109     0.520767\n",
       "Yaralı Sayısı    0.460109       1.000000     0.837171\n",
       "Araç Sayısı      0.520767       0.837171     1.000000"
      ]
     },
     "execution_count": 12,
     "metadata": {},
     "output_type": "execute_result"
    }
   ],
   "source": [
    "df.corr(\"spearman\")"
   ]
  },
  {
   "cell_type": "code",
   "execution_count": 13,
   "id": "d53b3e4e",
   "metadata": {},
   "outputs": [
    {
     "data": {
      "text/plain": [
       "<AxesSubplot:>"
      ]
     },
     "execution_count": 13,
     "metadata": {},
     "output_type": "execute_result"
    },
    {
     "data": {
      "image/png": "[encoded data removed]",
      "text/plain": [
       "<Figure size 432x288 with 2 Axes>"
      ]
     },
     "metadata": {
      "needs_background": "light"
     },
     "output_type": "display_data"
    }
   ],
   "source": [
    "sns.heatmap(df.corr(\"spearman\"), annot = True)"
   ]
  },
  {
   "cell_type": "code",
   "execution_count": 30,
   "id": "c8c97db5",
   "metadata": {},
   "outputs": [
    {
     "data": {
      "text/plain": [
       "<function matplotlib.pyplot.show(close=None, block=None)>"
      ]
     },
     "execution_count": 30,
     "metadata": {},
     "output_type": "execute_result"
    },
    {
     "data": {
      "image/png": "[encoded data removed]",
      "text/plain": [
       "<Figure size 432x288 with 1 Axes>"
      ]
     },
     "metadata": {
      "needs_background": "light"
     },
     "output_type": "display_data"
    }
   ],
   "source": [
    "df.corr(\"spearman\").plot.bar()\n",
    "plt.xlabel(\"Ölü, Yaralı ve Araç Sayısı\")\n",
    "plt.ylabel(\"Kaza Sayısı\")\n",
    "plt.show"
   ]
  },
  {
   "cell_type": "code",
   "execution_count": 15,
   "id": "b57f2700",
   "metadata": {},
   "outputs": [],
   "source": [
    "from sklearn.ensemble import RandomForestClassifier"
   ]
  },
  {
   "cell_type": "code",
   "execution_count": 16,
   "id": "b9d343d3",
   "metadata": {},
   "outputs": [],
   "source": [
    "rf =RandomForestClassifier()"
   ]
  },
  {
   "cell_type": "code",
   "execution_count": 19,
   "id": "a029f687",
   "metadata": {},
   "outputs": [],
   "source": [
    "model = rf.fit(df[[\"Ölü Sayısı\",\"Yaralı Sayısı\"]],df[\"Araç Sayısı\"])"
   ]
  },
  {
   "cell_type": "code",
   "execution_count": 26,
   "id": "1ab120c8",
   "metadata": {},
   "outputs": [
    {
     "data": {
      "text/html": [
       "<div>\n",
       "<style scoped>\n",
       "    .dataframe tbody tr th:only-of-type {\n",
       "        vertical-align: middle;\n",
       "    }\n",
       "\n",
       "    .dataframe tbody tr th {\n",
       "        vertical-align: top;\n",
       "    }\n",
       "\n",
       "    .dataframe thead th {\n",
       "        text-align: right;\n",
       "    }\n",
       "</style>\n",
       "<table border=\"1\" class=\"dataframe\">\n",
       "  <thead>\n",
       "    <tr style=\"text-align: right;\">\n",
       "      <th></th>\n",
       "      <th>Önem Derecesi</th>\n",
       "    </tr>\n",
       "  </thead>\n",
       "  <tbody>\n",
       "    <tr>\n",
       "      <th>Yaralı Sayısı</th>\n",
       "      <td>77.582907</td>\n",
       "    </tr>\n",
       "    <tr>\n",
       "      <th>Ölü Sayısı</th>\n",
       "      <td>22.417093</td>\n",
       "    </tr>\n",
       "  </tbody>\n",
       "</table>\n",
       "</div>"
      ],
      "text/plain": [
       "               Önem Derecesi\n",
       "Yaralı Sayısı      77.582907\n",
       "Ölü Sayısı         22.417093"
      ]
     },
     "execution_count": 26,
     "metadata": {},
     "output_type": "execute_result"
    }
   ],
   "source": [
    "onem_derecesi = pd.DataFrame((model.feature_importances_*100),\n",
    "                            index = df[[\"Ölü Sayısı\",\"Yaralı Sayısı\"]].columns,\n",
    "                            columns = [\"Önem Derecesi\"] \n",
    "                            ).sort_values(\"Önem Derecesi\"\n",
    "                                         ,ascending = False) \n",
    "\n",
    "onem_derecesi"
   ]
  },
  {
   "cell_type": "code",
   "execution_count": null,
   "id": "314e5145",
   "metadata": {},
   "outputs": [],
   "source": []
  },
  {
   "cell_type": "code",
   "execution_count": null,
   "id": "8219ef25",
   "metadata": {},
   "outputs": [],
   "source": []
  }
 ],
 "metadata": {
  "kernelspec": {
   "display_name": "Python 3",
   "language": "python",
   "name": "python3"
  },
  "language_info": {
   "codemirror_mode": {
    "name": "ipython",
    "version": 3
   },
   "file_extension": ".py",
   "mimetype": "text/x-python",
   "name": "python",
   "nbconvert_exporter": "python",
   "pygments_lexer": "ipython3",
   "version": "3.8.8"
  }
 },
 "nbformat": 4,
 "nbformat_minor": 5
}
